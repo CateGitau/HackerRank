{
 "nbformat": 4,
 "nbformat_minor": 2,
 "metadata": {
  "language_info": {
   "name": "python",
   "codemirror_mode": {
    "name": "ipython",
    "version": 3
   },
   "version": "3.7.3-final"
  },
  "orig_nbformat": 2,
  "file_extension": ".py",
  "mimetype": "text/x-python",
  "name": "python",
  "npconvert_exporter": "python",
  "pygments_lexer": "ipython3",
  "version": 3,
  "kernelspec": {
   "name": "python37364bitbaseconda569edf27ad0243b9aa6880a18fbf0a13",
   "display_name": "Python 3.7.3 64-bit ('base': conda)"
  }
 },
 "cells": [
  {
   "cell_type": "code",
   "execution_count": 3,
   "metadata": {},
   "outputs": [
    {
     "output_type": "stream",
     "name": "stdout",
     "text": "The P\n"
    }
   ],
   "source": [
    "with open(\"/home/cate/HackerRank/Packt_Python_programming/Chapter_4/data/pg37431.txt\") as f:\n",
    "    print(f.read(5))"
   ]
  },
  {
   "cell_type": "code",
   "execution_count": 6,
   "metadata": {},
   "outputs": [
    {
     "output_type": "stream",
     "name": "stdout",
     "text": "The Project Gutenberg EBook of Pride and Prejudice, a play, by \n\n"
    }
   ],
   "source": [
    "with open(\"/home/cate/HackerRank/Packt_Python_programming/Chapter_4/data/pg37431.txt\") as f:\n",
    "    print(f.readline())"
   ]
  },
  {
   "cell_type": "markdown",
   "metadata": {},
   "source": [
    "The preceding code snippet allows us to open a file in w+, a mode that supports both reading and writing, that is updating the file. Other modes in Python include the following:\n",
    "\n",
    "- R: The default mode. This opens a file for reading.\n",
    "- W: The write mode. This opens a file for writing, creates a new file if the file does not exist, and overwrites the content if the file already exists.\n",
    "- X: This creates a new file. The operation fails if the file exists.\n",
    "- A: This opens a file in append mode, and creates a new file if a file does not exist.\n",
    "- B: This opens a file in binary mode."
   ]
  },
  {
   "cell_type": "code",
   "execution_count": 7,
   "metadata": {},
   "outputs": [],
   "source": [
    "f = open(\"log.txt\",\"w+\")"
   ]
  },
  {
   "cell_type": "code",
   "execution_count": null,
   "metadata": {},
   "outputs": [],
   "source": []
  }
 ]
}